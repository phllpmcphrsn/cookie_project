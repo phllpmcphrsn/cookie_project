{
 "cells": [
  {
   "cell_type": "code",
   "execution_count": null,
   "metadata": {},
   "outputs": [],
   "source": [
    "# The three below functions will perform the following:\n",
    "# Cost = (weight-of-recipe-yield/base-weight-of-ingredient)*price-of-ingredient\n",
    "# def calculate_quotient(row):\n",
    "#     # a function that will return the quotient of weights (recipe/base)\n",
    "#     weight_base = remove_measurements(row['Weight/Amount_base'])\n",
    "#     weight_recipe = remove_measurements(row['Weight/Amount_recipe'])\n",
    "#     quotient = weight_recipe/weight_base \n",
    "#     return quotient\n",
    "\n",
    "# def calculate_cost_for_original_recipe(row):\n",
    "#     # a function that will multiply cost to returned quotient\n",
    "#     quotient = calculate_quotient(row)\n",
    "#     cost = round(quotient * row['Cost_base'], 2)\n",
    "#     return cost\n",
    "\n",
    "# def ingest_excel_with_multiple_sheets(excel):\n",
    "#     wb = load_workbook(excel, read_only=True)\n",
    "#     if len(wb.sheetnames) < 1:\n",
    "#         df = pd.read_excel(excel)\n",
    "#     else:\n",
    "#         sheets = get_sheets(wb)\n",
    "#         values = list_of_sheets[0].values\n",
    "#         headers = next(values)[0:]\n",
    "#         df = pd.DataFrame(values, columns=headers)\n",
    "#         df = df[df.columns.dropna()]\n",
    "#     return df"
   ]
  },
  {
   "cell_type": "code",
   "execution_count": null,
   "metadata": {},
   "outputs": [],
   "source": [
    "wb = load_workbook(r'Cookie Ingredients.xlsx')\n",
    "# def get_sheets(workbook)\n",
    "list_of_sheets = []\n",
    "for sheet in wb.sheetnames:\n",
    "    list_of_sheets.append(wb[sheet])\n",
    "# return list_of_sheets\n",
    "merged_df = pd.DataFrame()\n",
    "for i in range(len(list_of_sheets)):\n",
    "    print(i)\n",
    "    values = list_of_sheets[i].values\n",
    "    headers = next(values)[0:]\n",
    "    df = pd.DataFrame(values, columns=headers)\n",
    "    df = df[df.columns.dropna()]\n",
    "    if not merged_df.empty:\n",
    "        merged_df = df.merge(df, on=['Brand', 'Ingredient'])\n",
    "merged_df\n",
    "\n",
    "# if multiple sheets, get each sheet and store in list\n",
    "# get the values of each sheet\n",
    "# get the headers of each"
   ]
  },
  {
   "cell_type": "code",
   "execution_count": null,
   "metadata": {},
   "outputs": [],
   "source": [
    "recipe_df = pd.concat(pd.read_excel('Cookie Ingredients.xlsx', sheet_name=None),axis=1)\n",
    "base_df = pd.read_excel('Cookie Base Ingredient Cost.xlsx')\n",
    "\n",
    "sheet_names = df.keys()\n",
    "recipe_df.columns = recipe_df.columns.droplevel()"
   ]
  }
 ],
 "metadata": {
  "kernelspec": {
   "display_name": "Python 3",
   "language": "python",
   "name": "python3"
  },
  "language_info": {
   "codemirror_mode": {
    "name": "ipython",
    "version": 3
   },
   "file_extension": ".py",
   "mimetype": "text/x-python",
   "name": "python",
   "nbconvert_exporter": "python",
   "pygments_lexer": "ipython3",
   "version": "3.7.4"
  }
 },
 "nbformat": 4,
 "nbformat_minor": 4
}
